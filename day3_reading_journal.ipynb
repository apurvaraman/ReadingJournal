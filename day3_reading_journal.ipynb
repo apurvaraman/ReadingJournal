{
 "cells": [
  {
   "cell_type": "markdown",
   "metadata": {},
   "source": [
    "# Day 3 Reading Journal\n",
    "\n",
    "This journal includes several required exercises, but it is meant to encourage active reading more generally.  You should use the journal to take detailed notes, catalog questions, and explore the content from Think Python deeply.\n",
    "\n",
    "Reading: Think Python Chapter 8, 10.1-10.6\n",
    "\n",
    "**Due: Monday, February 1 at 12 noon**\n",
    "\n"
   ]
  },
  {
   "cell_type": "markdown",
   "metadata": {},
   "source": [
    "## [Chapter 8](http://www.greenteapress.com/thinkpython/html/thinkpython009.html)\n",
    "\n",
    "Note: the exercise numbers below match up with the reading for ease of cross referencing.\n",
    "\n",
    "# 8.1 A string is a Sequence\n",
    "\n",
    "Indices start at 0. The value of an index must be an integer.\n",
    "\n",
    "# 8.2 len\n",
    "\n",
    "len returns the number of characters (length) of a string. Therefore, since indices start at 1, you must use string[len(string - 1)] to get the last character in the string. Negative indices work: string[-1] is the last charcter in the string.\n",
    "\n",
    "# Traversal with a for Loop\n",
    "\n",
    "Processing a string a character at a time is called traversal.\n",
    "You can do this with loops.\n",
    "\n",
    "Allen Downey provides an example of a while loop that displays each letter of a string one line at a time."
   ]
  },
  {
   "cell_type": "code",
   "execution_count": 23,
   "metadata": {
    "collapsed": false
   },
   "outputs": [
    {
     "name": "stdout",
     "output_type": "stream",
     "text": [
      "பழம்\n",
      "ப\n",
      "ழ\n",
      "ம\n",
      "்\n"
     ]
    }
   ],
   "source": [
    "fruit = u'\\u0baa'+ u'\\u0bb4' + u'\\u0bae' + u'\\u0bcd' #trying out tamil/unicode in python\n",
    "print fruit\n",
    "\n",
    "index = 0\n",
    "while index < len(fruit):\n",
    "    letter = fruit[index]\n",
    "    print letter\n",
    "    index = index + 1"
   ]
  },
  {
   "cell_type": "markdown",
   "metadata": {},
   "source": [
    "### Exercise 1  \n",
    "\n",
    "Write a function that takes a string as an argument and displays the letters backward, one per line."
   ]
  },
  {
   "cell_type": "code",
   "execution_count": 21,
   "metadata": {
    "collapsed": false
   },
   "outputs": [
    {
     "name": "stdout",
     "output_type": "stream",
     "text": [
      "பழம்\n",
      "்\n",
      "ம\n",
      "ழ\n",
      "ப\n"
     ]
    }
   ],
   "source": [
    "fruit = u'\\u0baa'+ u'\\u0bb4' + u'\\u0bae' + u'\\u0bcd' #trying out tamil/unicode in python\n",
    "print fruit\n",
    "\n",
    "def mzhapa(fruit): \n",
    "    #If you're curious, the function name is the transliteration of the word \"fruit\" in Tamil backwards. \n",
    "    #\"ZH\" is a retroflex r. (An equivalent does not exist in English.) \n",
    "    index = 0\n",
    "    while index < len(fruit):\n",
    "        letter = fruit[len(fruit)-(index + 1)]\n",
    "        print letter\n",
    "        index += 1\n",
    "mzhapa(fruit)"
   ]
  },
  {
   "cell_type": "markdown",
   "metadata": {},
   "source": [
    "**Challenge (optional):** Write a function that translates words into [Pig Latin](https://en.wikipedia.org/wiki/Pig_Latin). \n",
    "\n",
    "**Additional challenge**: Write a function that translates back into English."
   ]
  },
  {
   "cell_type": "code",
   "execution_count": 10,
   "metadata": {
    "collapsed": false
   },
   "outputs": [],
   "source": [
    "def pig_latin(word):\n",
    "    \"\"\"\n",
    "    Return given 'word' translated into Pig Latin\n",
    "    \n",
    "    >>> pig_latin(\"software\")\n",
    "    'oftwaresay'\n",
    "    >>> pig_latin(\"animal\")\n",
    "    'animalsay'\n",
    "    \"\"\"\n",
    "    word = word.lower()\n",
    "    first_chara = word[0]\n",
    "    if first_chara in 'aeiou':\n",
    "        piglatin = word + 'ay'\n",
    "    else:\n",
    "        piglatin = word[1:] + first_chara + 'ay'\n",
    "        return piglatin\n",
    "    pass \n",
    "\n",
    "\n",
    "\n",
    "# If you'd like to actually run the doctests here, you can uncomment the lines below.\n",
    "# We use this slightly more complex method to test only the pig_latin function, without running tests on any other functions that may be in this notebook.\n",
    "#import doctest\n",
    "#doctest.run_docstring_examples(pig_latin, globals())"
   ]
  },
  {
   "cell_type": "markdown",
   "metadata": {},
   "source": [
    "# 8.4 String Slices\n",
    "\n",
    "[n:m] => \"returns the part of the string from the \"n-eth\" character to the \"m-eth\" character, including the first , but not including the last.\n",
    "\n",
    "Omitting the first index makes the slice start at the beginning.\n",
    "Omitting the last index makes the slice go to the end.\n",
    "\n",
    "# 8.5 Strings Are Immutable\n",
    "\n",
    "Don't use the [] operator on the left side of the assignment to try to change the string. Make a new string using the old one instead.\n",
    "\n",
    "# 8.6 Searching\n",
    "\n",
    "Traversing a sequence and returning when we find the thing we are looking \n",
    "for is searching.\n",
    "\n",
    "# 8.7 Looping and Counting\n",
    "\n",
    "A counter is a variable initialized to 0 and incremented every time a condition is met in a loop.\n"
   ]
  },
  {
   "cell_type": "markdown",
   "metadata": {},
   "source": [
    "### Exercise 5\n",
    "Encapsulate the character counting code in a fruitful function named `count` that accepts the string and the letter as arguments and returns the count."
   ]
  },
  {
   "cell_type": "code",
   "execution_count": 24,
   "metadata": {
    "collapsed": false
   },
   "outputs": [
    {
     "data": {
      "text/plain": [
       "3"
      ]
     },
     "execution_count": 24,
     "metadata": {},
     "output_type": "execute_result"
    }
   ],
   "source": [
    "def count(word, search_letter):\n",
    "    count = 0\n",
    "    for letter in word:\n",
    "        if letter == search_letter:\n",
    "            count = count + 1\n",
    "    #print count\n",
    "    return count\n",
    "count('banana', 'a')"
   ]
  },
  {
   "cell_type": "markdown",
   "metadata": {},
   "source": [
    "# 8.8 String Methods\n",
    "\n",
    "Methods are like functions in that they take arguments and return values. \n",
    "Calling methods is invocation. Methods are associated with objects.\n"
   ]
  },
  {
   "cell_type": "markdown",
   "metadata": {},
   "source": [
    "### Exercise 8\n",
    "Skim the documentation of the Python [string methods](http://docs.python.org/2/library/stdtypes.html#string-methods). Experiment with some of them to make sure you understand how they work. strip, replace, and upper/lower are particularly useful."
   ]
  },
  {
   "cell_type": "code",
   "execution_count": 2,
   "metadata": {
    "collapsed": false
   },
   "outputs": [
    {
     "name": "stdout",
     "output_type": "stream",
     "text": [
      "capitalize\n",
      "Banana\n",
      "isdigit\n",
      "True\n",
      "istitle This Is Titlecase\n",
      "True\n",
      "istitle This is Not titlecase\n",
      "False\n",
      "istitle This Is Not TItlecase\n",
      "False\n",
      "istitle This Is Not T1tlecase\n",
      "False\n",
      "join('-','banana')\n",
      "b-a-n-a-n-a\n",
      "strip banana, na\n",
      "b\n",
      "replace banana, na, cat\n",
      "bacatcat\n",
      "upper banana\n",
      "BANANA\n",
      "lower BANANA\n",
      "banana\n"
     ]
    }
   ],
   "source": [
    "print 'capitalize'\n",
    "print str.capitalize('banana')\n",
    "\n",
    "print 'isdigit'\n",
    "print str.isdigit('1234')\n",
    "\n",
    "print 'istitle This Is Titlecase'\n",
    "print str.istitle('This Is Titlecase')\n",
    "print 'istitle This is Not titlecase'\n",
    "print str.istitle('This Is Not titlecase')\n",
    "print 'istitle This Is Not TItlecase'\n",
    "print str.istitle('This Is Not TItlecase')\n",
    "print 'istitle This Is Not T1tlecase'\n",
    "print str.istitle('This Is Not T1tlecase')\n",
    "\n",
    "print \"join('-','banana')\"\n",
    "print str.join('-','banana')\n",
    "\n",
    "print 'strip banana, na'\n",
    "print str.strip('banana', 'na')\n",
    "print 'replace banana, na, cat'\n",
    "print str.replace('banana','na', 'cat')\n",
    "\n",
    "print 'upper banana'\n",
    "print str.upper('banana')\n",
    "\n",
    "print 'lower BANANA'\n",
    "print str.lower ('BANANA')\n"
   ]
  },
  {
   "cell_type": "markdown",
   "metadata": {},
   "source": [
    "# 8.9 The in Operator\n",
    "\n",
    "in is a boolean operator that takes two strings and returns True if the first string appears as a substring in the second string. \n",
    "\n",
    "# 8.10 String Comparison\n",
    "\n",
    "Relational operators work on strings. Relational operators work in alphabetical order, but all uppercase letters come before lowercase ones. "
   ]
  },
  {
   "cell_type": "markdown",
   "metadata": {},
   "source": [
    "### Exercise 11  \n",
    "\n",
    "The following functions are all intended to check whether a string contains any lowercase letters, but at least some of them are wrong. For each function, describe what the function actually does (assuming that the parameter is a string)."
   ]
  },
  {
   "cell_type": "code",
   "execution_count": 17,
   "metadata": {
    "collapsed": false
   },
   "outputs": [
    {
     "name": "stdout",
     "output_type": "stream",
     "text": [
      "**********************************************************************\n",
      "File \"__main__\", line 9, in NoName\n",
      "Failed example:\n",
      "    any_lowercase1('Banana')\n",
      "Expected:\n",
      "    True\n",
      "Got:\n",
      "    False\n",
      "**********************************************************************\n",
      "File \"__main__\", line 11, in NoName\n",
      "Failed example:\n",
      "    any_lowercase1('123banana')\n",
      "Expected:\n",
      "    True\n",
      "Got:\n",
      "    False\n"
     ]
    }
   ],
   "source": [
    "def any_lowercase1(s):\n",
    "    \n",
    "    \"\"\"\n",
    "    This is what should happen:\n",
    "    \n",
    "    \n",
    "    >>> any_lowercase1('banana')\n",
    "    True\n",
    "    >>> any_lowercase1('Banana')\n",
    "    True\n",
    "    >>> any_lowercase1('123banana')\n",
    "    True\n",
    "    >>> any_lowercase1('BANANA')\n",
    "    False\n",
    "    >>> any_lowercase1('banana ')\n",
    "    True\n",
    "    \"\"\"\n",
    "    \n",
    "    for c in s:\n",
    "        if c.islower():\n",
    "            return True\n",
    "        else:\n",
    "            return False\n",
    "        \n",
    "import doctest \n",
    "doctest.run_docstring_examples(any_lowercase1, globals())"
   ]
  },
  {
   "cell_type": "markdown",
   "metadata": {},
   "source": [
    "This tells us that once the program encounters a character that is not a lowercase letter, it returns false. This makes sense when looking at the execution flow- the program returns False as soon as c.islower() evaluates to false for a character in the string. "
   ]
  },
  {
   "cell_type": "markdown",
   "metadata": {},
   "source": [
    " "
   ]
  },
  {
   "cell_type": "code",
   "execution_count": 14,
   "metadata": {
    "collapsed": false
   },
   "outputs": [
    {
     "name": "stdout",
     "output_type": "stream",
     "text": [
      "**********************************************************************\n",
      "File \"__main__\", line 7, in NoName\n",
      "Failed example:\n",
      "    any_lowercase2('banana')\n",
      "Expected:\n",
      "    True\n",
      "Got:\n",
      "    'True'\n",
      "**********************************************************************\n",
      "File \"__main__\", line 9, in NoName\n",
      "Failed example:\n",
      "    any_lowercase2('Banana')\n",
      "Expected:\n",
      "    True\n",
      "Got:\n",
      "    'True'\n",
      "**********************************************************************\n",
      "File \"__main__\", line 11, in NoName\n",
      "Failed example:\n",
      "    any_lowercase2('123banana')\n",
      "Expected:\n",
      "    True\n",
      "Got:\n",
      "    'True'\n",
      "**********************************************************************\n",
      "File \"__main__\", line 13, in NoName\n",
      "Failed example:\n",
      "    any_lowercase2('BANANA')\n",
      "Expected:\n",
      "    False\n",
      "Got:\n",
      "    'True'\n",
      "**********************************************************************\n",
      "File \"__main__\", line 15, in NoName\n",
      "Failed example:\n",
      "    any_lowercase2('123banana ')\n",
      "Expected:\n",
      "    True\n",
      "Got:\n",
      "    'True'\n"
     ]
    }
   ],
   "source": [
    "def any_lowercase2(s):\n",
    "    \n",
    "    \"\"\"\n",
    "    This is what should happen:\n",
    "    \n",
    "    \n",
    "    >>> any_lowercase2('banana')\n",
    "    True\n",
    "    >>> any_lowercase2('Banana')\n",
    "    True\n",
    "    >>> any_lowercase2('123banana')\n",
    "    True\n",
    "    >>> any_lowercase2('BANANA')\n",
    "    False\n",
    "    >>> any_lowercase2('banana ')\n",
    "    True\n",
    "    \"\"\"\n",
    "    \n",
    "    for c in s:\n",
    "        if 'c'.islower():\n",
    "            return 'True'\n",
    "        else:\n",
    "            return 'False'\n",
    "        \n",
    "import doctest \n",
    "doctest.run_docstring_examples(any_lowercase2, globals())"
   ]
  },
  {
   "cell_type": "markdown",
   "metadata": {},
   "source": [
    "This program checks if a non-empty string evaluates to True or False. Non-empty strings always evaluate to true, so the function returns \"True\"."
   ]
  },
  {
   "cell_type": "code",
   "execution_count": 20,
   "metadata": {
    "collapsed": false
   },
   "outputs": [
    {
     "name": "stdout",
     "output_type": "stream",
     "text": [
      "**********************************************************************\n",
      "File \"__main__\", line 15, in NoName\n",
      "Failed example:\n",
      "    any_lowercase3('banana ')\n",
      "Expected:\n",
      "    True\n",
      "Got:\n",
      "    False\n"
     ]
    }
   ],
   "source": [
    "def any_lowercase3(s):\n",
    "        \n",
    "    \"\"\"\n",
    "    This is what should happen:\n",
    "    \n",
    "    \n",
    "    >>> any_lowercase3('banana')\n",
    "    True\n",
    "    >>> any_lowercase3('Banana')\n",
    "    True\n",
    "    >>> any_lowercase3('123banana')\n",
    "    True\n",
    "    >>> any_lowercase3('BANANA')\n",
    "    False\n",
    "    >>> any_lowercase3('banana ')\n",
    "    True\n",
    "    \"\"\"\n",
    "    \n",
    "    for c in s:\n",
    "        flag = c.islower()\n",
    "    return flag\n",
    "import doctest \n",
    "doctest.run_docstring_examples(any_lowercase3, globals())"
   ]
  },
  {
   "cell_type": "markdown",
   "metadata": {},
   "source": [
    "This almost works! It just doesn't work when the last value of the string evaluates to False.  "
   ]
  },
  {
   "cell_type": "code",
   "execution_count": 21,
   "metadata": {
    "collapsed": true
   },
   "outputs": [],
   "source": [
    "def any_lowercase4(s):\n",
    "    \"\"\"\n",
    "    This is what should happen:\n",
    "    \n",
    "    \n",
    "    >>> any_lowercase4('banana')\n",
    "    True\n",
    "    >>> any_lowercase4('Banana')\n",
    "    True\n",
    "    >>> any_lowercase4('123banana')\n",
    "    True\n",
    "    >>> any_lowercase4('BANANA')\n",
    "    False\n",
    "    >>> any_lowercase4('banana ')\n",
    "    True\n",
    "    \"\"\"\n",
    "    flag = False\n",
    "    for c in s:\n",
    "        flag = flag or c.islower()\n",
    "    return flag\n",
    "\n",
    "import doctest \n",
    "doctest.run_docstring_examples(any_lowercase4, globals())"
   ]
  },
  {
   "cell_type": "markdown",
   "metadata": {},
   "source": [
    "This actually does work. "
   ]
  },
  {
   "cell_type": "code",
   "execution_count": 2,
   "metadata": {
    "collapsed": false
   },
   "outputs": [
    {
     "name": "stdout",
     "output_type": "stream",
     "text": [
      "**********************************************************************\n",
      "File \"__main__\", line 8, in NoName\n",
      "Failed example:\n",
      "    any_lowercase5('Banana')\n",
      "Expected:\n",
      "    True\n",
      "Got:\n",
      "    False\n",
      "**********************************************************************\n",
      "File \"__main__\", line 10, in NoName\n",
      "Failed example:\n",
      "    any_lowercase5('123banana')\n",
      "Expected:\n",
      "    True\n",
      "Got:\n",
      "    False\n",
      "**********************************************************************\n",
      "File \"__main__\", line 14, in NoName\n",
      "Failed example:\n",
      "    any_lowercase5('banana ')\n",
      "Expected:\n",
      "    True\n",
      "Got:\n",
      "    False\n"
     ]
    }
   ],
   "source": [
    "def any_lowercase5(s):\n",
    "    \"\"\"\n",
    "    This is what should happen:\n",
    "    \n",
    "    \n",
    "    >>> any_lowercase5('banana')\n",
    "    True\n",
    "    >>> any_lowercase5('Banana')\n",
    "    True\n",
    "    >>> any_lowercase5('123banana')\n",
    "    True\n",
    "    >>> any_lowercase5('BANANA')\n",
    "    False\n",
    "    >>> any_lowercase5('banana ')\n",
    "    True\n",
    "    \"\"\"\n",
    "    for c in s:\n",
    "        if not c.islower():\n",
    "            return False\n",
    "    return True\n",
    "\n",
    "import doctest \n",
    "doctest.run_docstring_examples(any_lowercase5, globals())"
   ]
  },
  {
   "cell_type": "markdown",
   "metadata": {},
   "source": [
    "This function stops when c.islower() evaluates to false. "
   ]
  },
  {
   "cell_type": "markdown",
   "metadata": {},
   "source": [
    "## [Chapter 10.1 - 10.6](http://www.greenteapress.com/thinkpython/html/thinkpython011.html)\n",
    "\n",
    "You may want to review [state diagrams in Chapter 2](http://www.greenteapress.com/thinkpython/html/thinkpython003.html#toc13).\n",
    "\n",
    "# 10.1 A List Is A Sequence\n",
    "\n",
    "Lists are sequences of values. Values in a list are called elements are items. Lists can be nested. You can assign list values to variables. \n",
    "\n",
    "# 10.2 Lists Are Mutable\n",
    "\n",
    "Unlike strings. You can access elements of a list with the [] operator. Lists can be though of as a relationship between indices and elements. \n",
    "\n",
    "# 10.3 Traversing a List\n",
    "\n",
    "Most common way is to us a for loop. A nested list counts as a single element. \n",
    "\n",
    "# 10.4 List Operations\n",
    "\n",
    "The + operator concatentates list, and the * operator repeats lists a given number of times. \n",
    "\n",
    "# 10.5 List Slices\n",
    "\n",
    "Slices work on lists. Because lists are mutable, it might be useful to make a copy and then perform operation if you need to access the original list. \n",
    "Slice operators on the left side of an assignment update multiple elements.\n",
    "\n",
    "# 10.6 List Methods\n",
    "\n",
    "append => appends a new element to the list\n",
    "extend => takes a list as an argument and appends all the elements\n",
    "sort => arranges values from low to high\n",
    "\n",
    "All list methods are void. They return None. \n"
   ]
  },
  {
   "cell_type": "markdown",
   "metadata": {},
   "source": [
    "**Quick check:** What type of items can be placed in a list?\n",
    "\n",
    " Pretty much anything can be placed in a list."
   ]
  },
  {
   "cell_type": "markdown",
   "metadata": {},
   "source": [
    "**Quick check:** Give at least one similarity and one difference between lists and strings.\n",
    "Both strings and lists are sequences and iterable, but strings are immutable and lists are not. "
   ]
  },
  {
   "cell_type": "markdown",
   "metadata": {},
   "source": [
    " "
   ]
  },
  {
   "cell_type": "markdown",
   "metadata": {},
   "source": [
    "### Exercise\n",
    "\n",
    "Write a function `average` that takes a list of numbers and returns their arithmetic mean."
   ]
  },
  {
   "cell_type": "code",
   "execution_count": 18,
   "metadata": {
    "collapsed": false
   },
   "outputs": [
    {
     "data": {
      "text/plain": [
       "4.166666666666667"
      ]
     },
     "execution_count": 18,
     "metadata": {},
     "output_type": "execute_result"
    }
   ],
   "source": [
    "list = [1, 2, 3, 4, 5, 10]\n",
    "\n",
    "def average(list):\n",
    "    return sum(list)/ float(len(list))\n",
    "\n",
    "average(list)  \n",
    "    "
   ]
  },
  {
   "cell_type": "markdown",
   "metadata": {},
   "source": [
    "### Exercise\n",
    "You own a restaurant, and you need to keep up with the latest food fads or risk losing your fickle customers. You decide to write a Python function that adds the hot new ingredient _du jour_ to each of your regular menu items and returns the trendy new menu."
   ]
  },
  {
   "cell_type": "code",
   "execution_count": 20,
   "metadata": {
    "collapsed": false
   },
   "outputs": [],
   "source": [
    "menu = [\"burger\", \"salad\", \"ice cream\"]\n",
    "ingredient = \"kale\"\n",
    "def add_ingredient(menu, ingredient):\n",
    "    \"\"\"\n",
    "    Given a list of string 'menu' items and a trendy 'ingredient' string of the day,\n",
    "    return a new menu list of strings with the ingredient added to each.\n",
    "    \n",
    "    >>> add_ingredient([\"burger\", \"salad\", \"ice cream\"], \"kale\")\n",
    "    ['burger with kale', 'salad with kale', 'ice cream with kale']\n",
    "    \n",
    "    \"\"\"\n",
    "    for i in range (len(menu)):\n",
    "        menu[i] = menu[i] + ' with ' + ingredient\n",
    "    return menu    \n",
    "\n",
    "# Running doctests in jupyter notebook:\n",
    "# If you'd like to actually run the doctests here, you can uncomment the lines below.\n",
    "# We use this slightly more complex method to test only the add_ingredient function,\n",
    "# without running tests on any other functions that may be in this notebook.\n",
    "\n",
    "import doctest\n",
    "doctest.run_docstring_examples(add_ingredient, globals())"
   ]
  },
  {
   "cell_type": "markdown",
   "metadata": {},
   "source": [
    "## Reading Journal feedback\n",
    "\n",
    "Have any comments on this Reading Journal? Feel free to leave them below and we'll read them when you submit your journal entry. This could include suggestions to improve the exercises, topics you'd like to see covered in class next time, or other feedback.\n",
    "\n",
    "If you have Python questions or run into problems while completing the reading, you should post them to Piazza instead so you can get a quick response before your journal is submitted.\n",
    "\n",
    "I wish I had known to do the reading before trying the mini-project. That might have been useful to know for others as well. "
   ]
  },
  {
   "cell_type": "markdown",
   "metadata": {},
   "source": [
    " "
   ]
  }
 ],
 "metadata": {
  "kernelspec": {
   "display_name": "Python 2",
   "language": "python",
   "name": "python2"
  },
  "language_info": {
   "codemirror_mode": {
    "name": "ipython",
    "version": 2
   },
   "file_extension": ".py",
   "mimetype": "text/x-python",
   "name": "python",
   "nbconvert_exporter": "python",
   "pygments_lexer": "ipython2",
   "version": "2.7.6"
  }
 },
 "nbformat": 4,
 "nbformat_minor": 0
}
