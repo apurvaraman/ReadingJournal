{
 "cells": [
  {
   "cell_type": "markdown",
   "metadata": {},
   "source": [
    "# Day 7 Reading Journal\n",
    "\n",
    "This journal includes several required exercises, but it is meant to encourage active reading more generally.  You should use the journal to take detailed notes, catalog questions, and explore the content from Think Python deeply.\n",
    "\n",
    "Reading: Think Python Chapter 11, 12\n",
    "\n",
    "**Due: Thursday, February 18 at 12 noon**\n",
    "\n"
   ]
  },
  {
   "cell_type": "markdown",
   "metadata": {},
   "source": [
    "## [Chapter 11](http://www.greenteapress.com/thinkpython/html/thinkpython012.html)\n",
    "\n",
    "\n",
    "\n",
    "Dictionaries map a set of indicies (keys) to a set of values.  \n",
    "\n",
    "Associations are called key-value pairs/items\n",
    "\n",
    "{} empty dictionary\n",
    "\n",
    "dict creates an empty dictionary with no items\n",
    "\n",
    "add items using square brackets\n",
    "\n",
    "You don't look up things with integer indices(this would not be good because dictionary items are ordered unpredictably), but you use the keys to access the corresponding values\n",
    "\n",
    "len returns the number of key-value pairs\n",
    "\n",
    "in tells you if a thing appears as a key (but doesn't give you any information on whether it appears as a value)\n",
    "\n",
    "in with dictionaries uses a hashtable\n",
    "\n",
    "You can use a dictionary a set of counters.\n",
    "\n",
    "Lists can be values in dictionaries.\n",
    "\n",
    "A singleton is a list with one element.\n",
    "\n",
    "Keys have to be hashable, and mutable types are not hashable. \n",
    "\n",
    "A memo is a previously computed value stored for later use.\n",
    "\n",
    "Long type is not in python 3"
   ]
  },
  {
   "cell_type": "markdown",
   "metadata": {},
   "source": [
    "**Quick check:** In about one sentence using your own words, what is a dictionary?\n",
    "\n",
    "A dictionary is a data structure that maps keys to values instead of having to use  integer indices."
   ]
  },
  {
   "cell_type": "markdown",
   "metadata": {},
   "source": [
    " "
   ]
  },
  {
   "cell_type": "markdown",
   "metadata": {
    "is_question": true,
    "problem": "Exercise 11.2"
   },
   "source": [
    "### Exercise 2  \n",
    "\n",
    "Dictionaries have a [method called `get`](https://docs.python.org/2/library/stdtypes.html#mapping-types-dict) that takes a key and a default value. If the key appears in the dictionary, `get` returns the corresponding value; otherwise it returns the default value. For example:\n",
    "\n",
    "```\n",
    ">>> h = histogram('a')\n",
    ">>> print h\n",
    "{'a': 1}\n",
    ">>> h.get('a', 0)\n",
    "1\n",
    ">>> h.get('b', 0)\n",
    "0\n",
    "```\n",
    "\n",
    "Use `get` to write `histogram` more concisely. You should be able to eliminate the `if` statement. Add unit tests for your histogram implementation."
   ]
  },
  {
   "cell_type": "code",
   "execution_count": 9,
   "metadata": {
    "collapsed": false,
    "solution": "Exercise 11.2"
   },
   "outputs": [],
   "source": [
    "\"\"\"\n",
    "Old histogram:\n",
    "def histogram(s):\n",
    "    d = dict()\n",
    "    for c in s:\n",
    "        if c not in d:\n",
    "            d[c] = 1\n",
    "        else:\n",
    "            d[c] += 1\n",
    "\"\"\"\n",
    "\n",
    "\n",
    "def histogram_get(s):\n",
    "    \"\"\"\n",
    "    Takes string s, returns a dictionary with characters in s as keys \n",
    "    and the frequency of the character as the value\n",
    "    \n",
    "    >>> histogram_get('appleappleapple')['p']\n",
    "    6\n",
    "    >>> histogram_get('appleappleapple')['e']\n",
    "    3\n",
    "    \"\"\"\n",
    "    d = dict()\n",
    "    for letter in s:\n",
    "        d[letter] = d.get(letter, 0) + 1\n",
    "    return d\n",
    "\n",
    "#myHist = histogram_get('appleappleapple') \n",
    "#for c in myHist:\n",
    "   # print c, myHist[c]\n",
    "\n",
    "import doctest\n",
    "doctest.run_docstring_examples(histogram_get, globals())\n"
   ]
  },
  {
   "cell_type": "markdown",
   "metadata": {
    "is_question": true,
    "problem": "Exercise 11.4"
   },
   "source": [
    "### Exercise 4  \n",
    "\n",
    "Modify `reverse_lookup` so that it builds and returns a list of all keys that map to `v`, or an empty list if there are none. Add unit tests for your implementation."
   ]
  },
  {
   "cell_type": "code",
   "execution_count": 4,
   "metadata": {
    "collapsed": false,
    "solution": "Exercise 11.4"
   },
   "outputs": [],
   "source": [
    "def reverse_lookup(dictionary, value):\n",
    "    \"\"\"\n",
    "    Finds corresponding keys given a value in a given dictionary\n",
    "    \n",
    "    >>> reverse_lookup({'a':1,'p':2,'l':1,'e':1}, 1)\n",
    "    ['a', 'l', 'e']\n",
    "    >>> reverse_lookup({'a':1,'p':2,'l':1,'e':1}, 2)\n",
    "    ['p']\n",
    "    \"\"\"\n",
    "    keyList = []    \n",
    "    for key in dictionary:\n",
    "        if dictionary[key] == value:\n",
    "            keyList.append(key)\n",
    "    return keyList\n",
    "\n",
    "#myDict = {'a':1,'p':2,'l':1,'e':1}\n",
    "#print reverse_lookup(myDict, 1)\n",
    "#print reverse_lookup(myDict, 2)"
   ]
  },
  {
   "cell_type": "markdown",
   "metadata": {},
   "source": [
    "If you'd like to learn more about errors and exceptions, you can check out the [Python tutorial](https://docs.python.org/2/tutorial/errors.html) or read ahead to [Appendix A](http://www.greenteapress.com/thinkpython/html/thinkpython021.html) of Think Python. If you choose to use doctest for your unit testing, it can also [deal with exceptions](https://docs.python.org/2/library/doctest.html#what-about-exceptions)."
   ]
  },
  {
   "cell_type": "markdown",
   "metadata": {},
   "source": [
    "**Quick check** What type of objects can be used as keys to a dictionary, i.e. what property must they have?\n",
    "\n",
    "They must be immutable."
   ]
  },
  {
   "cell_type": "markdown",
   "metadata": {},
   "source": [
    " "
   ]
  },
  {
   "cell_type": "markdown",
   "metadata": {
    "is_question": true,
    "problem": "Exercise 11.6"
   },
   "source": [
    "### Exercise 6 (modified)\n",
    "\n",
    "Create a memoized version of your Levenshtein distance function from Day 7. What kind of performance change do you see?\n",
    "\n",
    "Optional: If you'd like to get some quantitative results, you could check out the [timeit](https://docs.python.org/2/library/timeit.html) module\n",
    "\n",
    "Note: You can also study Fibonacci here if you prefer."
   ]
  },
  {
   "cell_type": "code",
   "execution_count": 13,
   "metadata": {
    "collapsed": false,
    "solution": "Exercise 11.6"
   },
   "outputs": [],
   "source": [
    "def levenshtein_distance(s1, s2, known={}):\n",
    "    \"\"\"\n",
    "    Finds the levenshtein distance between two strings, s1 and s2\n",
    "    \n",
    "    >>> levenshtein_distance('quiet', 'quite')\n",
    "    2\n",
    "    >>> levenshtein_distance('noodle', 'oodle')\n",
    "    1\n",
    "    >>> levenshtein_distance('', 'apple')\n",
    "    5\n",
    "    \"\"\"\n",
    "    \n",
    "    if (s1,s2) in known:\n",
    "        return known[(s1, s2)]\n",
    "\n",
    "    #base case\n",
    "    if len(s1) == 0:\n",
    "        return len(s2)\n",
    "    if len(s2) == 0:\n",
    "        return len(s1)\n",
    "\n",
    "    \n",
    "    #single character (last) match\n",
    "    if s1[-1]  == s2[-1]:\n",
    "        cost = 0\n",
    "    else:\n",
    "        cost = 1\n",
    "        \n",
    "    #most of this is from the wikipedia page on levenshtein distance\n",
    "    known[(s1,s2)] = min(\n",
    "              levenshtein_distance(s1[:-1],s2,     known)+1,\n",
    "              levenshtein_distance(s1,     s2[:-1],known)+1,\n",
    "              levenshtein_distance(s1[:-1],s2[:-1],known)+cost\n",
    "              )\n",
    "    return known[(s1,s2)]\n",
    "\n",
    "import doctest\n",
    "doctest.run_docstring_examples(levenshtein_distance, globals())"
   ]
  },
  {
   "cell_type": "markdown",
   "metadata": {},
   "source": [
    "## [Chapter 12](http://www.greenteapress.com/thinkpython/html/thinkpython013.html)\n",
    "\n",
    "A tuple is a sequence of values: any time and are indexed by integers.\n",
    "\n",
    "Important difference between tuples and lists: tuples are immutable\n",
    "\n",
    "Comma-seperated list of values\n",
    "\n",
    "single element tuple needs an extra comma\n",
    "\n",
    "A value in parens is not a tuple\n",
    "\n",
    "Don't try to use tuple as a variable name\n",
    "\n",
    "Most list operators work for tuples\n",
    "\n",
    "\n",
    "**Quick check:** In about one sentence using your own words, what is a tuple?"
   ]
  },
  {
   "cell_type": "markdown",
   "metadata": {},
   "source": [
    " Tuples are immutable sequences of values indexed by integers."
   ]
  },
  {
   "cell_type": "markdown",
   "metadata": {
    "is_question": true,
    "problem": "Exercise 12.1"
   },
   "source": [
    "### Exercise 1  \n",
    "\n",
    "Many of the built-in functions use variable-length argument tuples. For example, `max` and `min` can take any number of arguments:\n",
    "\n",
    "```\n",
    ">>> max(1,2,3)\n",
    "3\n",
    "```\n",
    "\n",
    "But `sum` does not.\n",
    "\n",
    "```\n",
    ">>> sum(1,2,3)\n",
    "TypeError: sum expected at most 2 arguments, got 3\n",
    "```\n",
    "\n",
    "Write a function called ```sumall``` that takes any number of arguments and returns their sum. \n",
    "\n",
    "Write unit tests for your function. Do I actually need to keep saying this? Let's assume it's always a good idea :)"
   ]
  },
  {
   "cell_type": "code",
   "execution_count": 14,
   "metadata": {
    "collapsed": true,
    "solution": "Exercise 12.1"
   },
   "outputs": [],
   "source": [
    "def sumall(*args):\n",
    "    \"\"\"\n",
    "    >>> sumall(0)\n",
    "    0\n",
    "    >>> sumall(1,2,3)\n",
    "    6\n",
    "    >>> sumall(1.0,2,3)\n",
    "    6.0\n",
    "    \"\"\"\n",
    "    total = 0\n",
    "    for number in args:\n",
    "        total += number\n",
    "    return total\n",
    "\n",
    "\n",
    "import doctest\n",
    "doctest.run_docstring_examples(sumall, globals())"
   ]
  },
  {
   "cell_type": "markdown",
   "metadata": {},
   "source": [
    "If you're interested in more flexible ways to pass arguments to functions, check out the [Python tutorial](https://docs.python.org/2/tutorial/controlflow.html#more-on-defining-functions). For instance, you can also use keyword arguments, which are collected into a dictionary just like `*` gathers variable numbers of positional arguments into a tuple.\n",
    "\n",
    "This pattern is very common for defining functions with complex optional behaviors in Python, and you will often see definitions like:\n",
    "\n",
    "```\n",
    "def my_func(required_argument1, *arguments, **keywords):\n",
    "    ...\n",
    "```"
   ]
  },
  {
   "cell_type": "markdown",
   "metadata": {
    "is_question": true,
    "problem": "Exercise 12 sort"
   },
   "source": [
    "### Exercise\n",
    "\n",
    "Write a function `sort_by_last_letter` that takes a list of words and returns a new list with the words sorted alphabetically by the _last letter_ in the word. Hint: use the **Decorate, Sort, Undecorate** pattern. Write unit tests for your function."
   ]
  },
  {
   "cell_type": "code",
   "execution_count": 19,
   "metadata": {
    "collapsed": false,
    "solution": "Exercise 12 sort"
   },
   "outputs": [],
   "source": [
    "def sort_by_last_letter(wordList):\n",
    "    \"\"\"\n",
    "    Takes a list of words and returns the list sorted by last letter\n",
    "    \n",
    "    >>> sort_by_last_letter([\"noodle\", \"oodle\", \"boop\"])\n",
    "    ['noodle', 'oodle', 'boop']\n",
    "    \n",
    "    >>> sort_by_last_letter([\"aa\", \"bb\", \"cc\", \"cd\", \"bd\"])\n",
    "    ['aa', 'bb', 'cc', 'bd', 'cd']\n",
    "    \"\"\"\n",
    "    t = []\n",
    "    for word in wordList:\n",
    "        t.append((word[-1], word))\n",
    "    #sort first value\n",
    "    t.sort()\n",
    "    \n",
    "    res = []\n",
    "    for last_letter, word in t:\n",
    "        res.append(word)\n",
    "    return res\n",
    "\n",
    "import doctest\n",
    "doctest.run_docstring_examples(sort_by_last_letter, globals())"
   ]
  },
  {
   "cell_type": "markdown",
   "metadata": {},
   "source": [
    "**Quick check** Give an example of when you might use each sequence type:\n",
    "\n",
    "- tuple\n",
    "\n",
    "- list\n",
    "\n",
    "- string"
   ]
  },
  {
   "cell_type": "markdown",
   "metadata": {},
   "source": [
    "Tuples: keys, if you want something like a list that's immutable\n",
    "list: if you want entries that can be changed or placed in a specific order\n",
    "String: store words, characters, and phrases, printing messages, elements in other things"
   ]
  },
  {
   "cell_type": "markdown",
   "metadata": {
    "is_question": true,
    "problem": "Exercise 12.3"
   },
   "source": [
    "### Exercise 3  \n",
    "\n",
    "Write a function called `most_frequent` that takes a string and prints the letters in decreasing order of frequency. Find text samples from several different languages and see how letter frequency varies between languages. Compare your results with the tables at http://en.wikipedia.org/wiki/Letter_frequencies. \n",
    "\n",
    "Allen's solution (try it on your own first): http://thinkpython.com/code/most_frequent.py. "
   ]
  },
  {
   "cell_type": "code",
   "execution_count": 27,
   "metadata": {
    "collapsed": false,
    "solution": "Exercise 12.3"
   },
   "outputs": [
    {
     "name": "stdout",
     "output_type": "stream",
     "text": [
      "[('a', 24), ('e', 19), ('r', 18), ('n', 17), ('t', 16), ('m', 15), ('i', 15), ('o', 12), ('s', 11), ('p', 11), ('d', 11), ('l', 8), ('g', 8), ('y', 7), ('u', 7), ('c', 7), ('h', 3), ('v', 2), ('f', 2), ('b', 2), ('j', 1)]\n",
      "[('e', 35), ('r', 21), ('i', 21), ('t', 20), ('n', 17), ('a', 11), ('s', 10), ('p', 10), ('o', 9), ('m', 8), ('d', 8), ('h', 7), ('u', 6), ('g', 6), ('y', 5), ('k', 4), ('c', 4), ('z', 3), ('l', 3), ('f', 3), ('b', 3), ('w', 2), ('\\xc3', 1), ('\\xbc', 1), ('v', 1), ('j', 1)]\n",
      "[('a', 27), ('e', 18), ('i', 16), ('r', 15), ('n', 15), ('o', 14), ('t', 12), ('m', 11), ('u', 9), ('p', 9), ('d', 8), ('s', 6), ('l', 6), ('g', 6), ('c', 6), ('\\xc3', 5), ('\\xb3', 4), ('y', 3), ('j', 3), ('f', 2), ('\\xa1', 1), ('v', 1), ('q', 1), ('b', 1)]\n"
     ]
    }
   ],
   "source": [
    "def histogram_get(s):\n",
    "    \"\"\"\n",
    "    Takes string s, returns a dictionary with characters in s as keys \n",
    "    and the frequency of the character as the value\n",
    "    \n",
    "    >>> histogram_get('appleappleapple')['p']\n",
    "    6\n",
    "    >>> histogram_get('appleappleapple')['e']\n",
    "    3\n",
    "    \"\"\"\n",
    "    s = s.lower()\n",
    "    d = dict()\n",
    "    for letter in s:\n",
    "        d[letter] = d.get(letter, 0) + 1\n",
    "    return d\n",
    "\n",
    "def most_frequent(myString):\n",
    "    garbage = \" ,.-\"\n",
    "    s = histogram_get(myString)\n",
    "    sorting = []\n",
    "    sort_most_freq = []\n",
    "    for a, number in s.items():\n",
    "        if a not in garbage:\n",
    "            sorting.append((number,a))\n",
    "            \n",
    "    sorting.sort(reverse = True)\n",
    "    for number, x in sorting:\n",
    "        sort_most_freq.append((x, number))        \n",
    "    return sort_most_freq\n",
    "        \n",
    "english_sample = \"Python supports multiple programming paradigms, including object-oriented, imperative and functional programming or procedural styles. It features a dynamic type system and automatic memory management and has a large and comprehensive standard library.\"\n",
    "german_sample = \"Python unterstützt mehrere Programmierparadigmen, z. B. die objektorientierte, die aspektorientierte und die funktionale Programmierung. Ferner bietet es eine dynamische Typisierung. Wie viele dynamische Sprachen wird Python oft als Skriptsprache genutzt.\"\n",
    "spanish_sample = \"Se trata de un lenguaje de programación multiparadigma, ya que soporta orientación a objetos, programación imperativa y, en menor medida, programación funcional. Es un lenguaje interpretado, usa tipado dinámico y es multiplataforma.\"\n",
    "\n",
    "import doctest\n",
    "doctest.run_docstring_examples(most_frequent, globals())\n",
    "\n",
    "\n",
    "print most_frequent(english_sample)\n",
    "print most_frequent(german_sample)\n",
    "print most_frequent(spanish_sample)\n",
    "\n",
    "#the sample isn't long to accurately represent the letter distribution in languages, but has certain general trends right.\n"
   ]
  },
  {
   "cell_type": "markdown",
   "metadata": {
    "is_question": true,
    "problem": "Exercise 12.6"
   },
   "source": [
    "### Challenge: Exercise 6   (optional)\n",
    "\n",
    "From a [Car Talk Puzzler](http://www.cartalk.com/content/puzzlers):\n",
    "\n",
    "What is the longest English word, that remains a valid English word, as you remove its letters one at a time?\n",
    "\n",
    "Now, letters can be removed from either end, or the middle, but you can’t rearrange any of the letters. Every time you drop a letter, you wind up with another English word. If you do that, you’re eventually going to wind up with one letter and that too is going to be an English word—one that’s found in the dictionary. I want to know what’s the longest word and how many letters does it have?\n",
    "\n",
    "I’m going to give you a little modest example: Sprite. Ok? You start off with sprite, you take a letter off, one from the interior of the word, take the r away, and we’re left with the word spite, then we take the e off the end, we’re left with spit, we take the s off, we’re left with pit, it, and I. \n",
    "\n",
    "Write a program to find all words that can be reduced in this way, and then find the longest one.\n",
    "\n",
    "This exercise is a little more challenging than most, so here are some suggestions:\n",
    "\n",
    "- You might want to write a function that takes a word and computes a list of all the words that can be formed by removing one letter. These are the “children” of the word.\n",
    "- Recursively, a word is reducible if any of its children are reducible. As a base case, you can consider the empty string reducible.\n",
    "- The word list from [Chapter 9.1](http://www.greenteapress.com/thinkpython/html/thinkpython010.html) Exercise 1 doesn’t contain single letter words. So you might want to add “I”, “a”, and the empty string.\n",
    "- To improve the performance of your program, you might want to memoize the words that are known to be reducible.\n",
    "\n",
    "Allen's solution: http://thinkpython.com/code/reducible.py."
   ]
  },
  {
   "cell_type": "code",
   "execution_count": null,
   "metadata": {
    "collapsed": true,
    "solution": "Exercise 12.6"
   },
   "outputs": [],
   "source": []
  },
  {
   "cell_type": "markdown",
   "metadata": {
    "is_question": true,
    "problem": "Feedback"
   },
   "source": [
    "## Reading Journal feedback\n",
    "\n",
    "Have any comments on this Reading Journal? Feel free to leave them below and we'll read them when you submit your journal entry. This could include suggestions to improve the exercises, topics you'd like to see covered in class next time, or other feedback.\n",
    "\n",
    "If you have Python questions or run into problems while completing the reading, you should post them to Piazza instead so you can get a quick response before your journal is submitted."
   ]
  },
  {
   "cell_type": "markdown",
   "metadata": {
    "feedback_response": true,
    "solution": "Feedback"
   },
   "source": [
    " "
   ]
  }
 ],
 "metadata": {
  "celltoolbar": "Edit Metadata",
  "kernelspec": {
   "display_name": "Python 2",
   "language": "python",
   "name": "python2"
  },
  "language_info": {
   "codemirror_mode": {
    "name": "ipython",
    "version": 2
   },
   "file_extension": ".py",
   "mimetype": "text/x-python",
   "name": "python",
   "nbconvert_exporter": "python",
   "pygments_lexer": "ipython2",
   "version": "2.7.6"
  }
 },
 "nbformat": 4,
 "nbformat_minor": 0
}
