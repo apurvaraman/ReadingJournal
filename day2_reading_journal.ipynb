{
 "cells": [
  {
   "cell_type": "code",
   "execution_count": null,
   "metadata": {
    "collapsed": true
   },
   "outputs": [],
   "source": [
    "Doctests"
   ]
  },
  {
   "cell_type": "code",
   "execution_count": 25,
   "metadata": {
    "collapsed": false
   },
   "outputs": [
    {
     "name": "stdout",
     "output_type": "stream",
     "text": [
      "Trying:\n",
      "    print is_triangle(9, 2, 1)\n",
      "Expecting:\n",
      "    No,\n",
      "ok\n",
      "Trying:\n",
      "    print is_triangle(1, 2, 3)\n",
      "Expecting:\n",
      "    Yes, but it's a degenerate triangle.\n",
      "ok\n",
      "Trying:\n",
      "    print is_triangle(1, 1, 1)\n",
      "Expecting:\n",
      "    Yes, and it is not a degenerate triangle.\n",
      "ok\n",
      "Trying:\n",
      "    print is_triangle(\"bob\", \"bob\", \"bobbob\")\n",
      "Expecting:\n",
      "    Yes, but it's a degenerate triangle.\n",
      "ok\n",
      "Trying:\n",
      "    print is_triangle(\"a\", \"b\", \"c\")\n",
      "Expecting:\n",
      "    No,\n",
      "ok\n",
      "2 items had no tests:\n",
      "    __main__.is_triangle\n",
      "    __main__.square_root\n",
      "1 items passed all tests:\n",
      "   5 tests in __main__\n",
      "5 tests in 3 items.\n",
      "5 passed and 0 failed.\n",
      "Test passed.\n"
     ]
    },
    {
     "data": {
      "text/plain": [
       "TestResults(failed=0, attempted=5)"
      ]
     },
     "execution_count": 25,
     "metadata": {},
     "output_type": "execute_result"
    }
   ],
   "source": [
    "\"\"\"\n",
    "The function is_triangle(a, b, c) determines if lengths a, b, and c for edges can make a triangle. \n",
    "It also identifies degenerate triangles.\n",
    "\n",
    "Examples:\n",
    "\n",
    "Note the examples with strings. String comparison in python works \n",
    "lexicographically (http://stackoverflow.com/questions/4806911/string-comparison-technique-used-by-python)\n",
    "so that is what the program will do when you use strings. \n",
    "\n",
    ">>> print is_triangle(9, 2, 1)\n",
    "No,\n",
    ">>> print is_triangle(1, 2, 3)\n",
    "Yes, but it's a degenerate triangle.\n",
    ">>> print is_triangle(1, 1, 1)\n",
    "Yes, and it is not a degenerate triangle.\n",
    ">>> print is_triangle(\"bob\", \"bob\", \"bobbob\")\n",
    "Yes, but it's a degenerate triangle.\n",
    ">>> print is_triangle(\"a\", \"b\", \"c\")\n",
    "No,\n",
    "\n",
    "\"\"\"\n",
    "\n",
    "def is_triangle(a, b, c):\n",
    "    if a > b + c or b > a + b or c > a + b:\n",
    "        return \"No,\"\n",
    "    else:\n",
    "        if a == b + c or b == a + c or c == a + b:\n",
    "            return \"Yes, but it's a degenerate triangle.\"\n",
    "        else:\n",
    "            return \"Yes, and it is not a degenerate triangle.\"\n",
    "        \n",
    "import doctest\n",
    "doctest.testmod(verbose=True)"
   ]
  },
  {
   "cell_type": "markdown",
   "metadata": {},
   "source": [
    "# Day 2 Reading Journal\n",
    "\n",
    "This journal includes several required exercises, but it is meant to encourage active reading more generally.  You should use the journal to take detailed notes, catalog questions, and explore the content from Think Python deeply.\n",
    "\n",
    "Reading: Think Python Chapter 6.1-6.4, 7\n",
    "\n",
    "**Due: Thursday, January 28 at 12 noon**\n",
    "\n"
   ]
  },
  {
   "cell_type": "markdown",
   "metadata": {},
   "source": [
    "Successfully merged upstream!"
   ]
  },
  {
   "cell_type": "markdown",
   "metadata": {},
   "source": [
    "## [Chapter 6.1-6.4](http://www.greenteapress.com/thinkpython/html/thinkpython007.html)\n",
    "\n",
    "Note: the exercise numbers below match up with the reading for ease of cross referencing."
   ]
  },
  {
   "cell_type": "markdown",
   "metadata": {},
   "source": [
    "# 6.1 Return Values\n",
    "\n",
    "A function has a return value if when the function is called, it generates a value.\n",
    "\n",
    "Include an expression in a return statement to make a fruitful function. \n",
    "It is sometimes useful to have multiple return statements, like in every branch of a conditional, where only one will be executed.  \n",
    "\n",
    "Dead code: unreachable code\n",
    "\n",
    "It is a good idea to make sure that every branch of the program has a return statement when writing fruitful functions."
   ]
  },
  {
   "cell_type": "markdown",
   "metadata": {},
   "source": [
    "**Quick check:** What is a _fruitful function_?\n",
    "\n",
    "Include an expression in a return statement to make a fruitful function."
   ]
  },
  {
   "cell_type": "markdown",
   "metadata": {},
   "source": [
    " "
   ]
  },
  {
   "cell_type": "markdown",
   "metadata": {},
   "source": [
    "### Exercise 1  \n",
    "Write a `compare` function that returns `1` if `x > y`, `0` if `x == y`, and `-1` if `x < y`."
   ]
  },
  {
   "cell_type": "code",
   "execution_count": 1,
   "metadata": {
    "collapsed": false
   },
   "outputs": [],
   "source": [
    "\"\"\"\n",
    "Compares two values, x and y. \n",
    "Returns 1 if x > y, 0 if x == y, and -1 if x < y\n",
    "\n",
    "practicing doctests:\n",
    "\n",
    ">>> compare(1,2)\n",
    "-1\n",
    ">>> compare(2,1)\n",
    "1\n",
    ">>> compare(1,1)\n",
    "0\n",
    ">>> compare(1, 1.5)\n",
    "-1\n",
    "\n",
    "\"\"\"\n",
    "\n",
    "def compare(x,y):\n",
    "    if x > y:\n",
    "        return 1\n",
    "    if x == y:\n",
    "        return 0\n",
    "    if x < y:\n",
    "        return -1\n",
    "\n",
    "#compare (1,2)"
   ]
  },
  {
   "cell_type": "markdown",
   "metadata": {},
   "source": [
    "**Quick check:** Modify the `absolute_value` function so that it returns the correct result for all integer inputs."
   ]
  },
  {
   "cell_type": "code",
   "execution_count": 2,
   "metadata": {
    "collapsed": false
   },
   "outputs": [],
   "source": [
    "def absolute_value(x):\n",
    "    if x < 0:\n",
    "        return -x\n",
    "    if x >= 0:\n",
    "        return x\n",
    "    \n",
    "#absolute_value(1)\n",
    "#absolute_value(-1)\n",
    "#absolute_value(0)"
   ]
  },
  {
   "cell_type": "markdown",
   "metadata": {},
   "source": [
    "# 6.2 Incremental development\n",
    "\n",
    "Avoid huge debugging sessions by adding and testing a bit at a time. If you write a whole bunch of code that does many steps and then check it, it can be hard to find mistakes.\n",
    "\n",
    "Use scaffolding."
   ]
  },
  {
   "cell_type": "markdown",
   "metadata": {},
   "source": [
    "### Exercise 2  \n",
    "Use incremental development to write a function called `hypotenuse` that returns the length of the hypotenuse of a right triangle given the lengths of the two legs as arguments. Record each stage of the development process as you go, using as many cells as you need."
   ]
  },
  {
   "cell_type": "code",
   "execution_count": 13,
   "metadata": {
    "collapsed": false
   },
   "outputs": [
    {
     "data": {
      "text/plain": [
       "0.0"
      ]
     },
     "execution_count": 13,
     "metadata": {},
     "output_type": "execute_result"
    }
   ],
   "source": [
    "#a bit of a simple example, but it's good practice to record every step.\n",
    "#we expect the hypotenuse to be about 2.23606\n",
    "def hypotenuse(leg1, leg2):\n",
    "    return 0.0\n",
    "hypotenuse(2,1)"
   ]
  },
  {
   "cell_type": "code",
   "execution_count": 10,
   "metadata": {
    "collapsed": false
   },
   "outputs": [
    {
     "name": "stdout",
     "output_type": "stream",
     "text": [
      "the square of the length of leg 1 is 4\n",
      "the square of the length of leg 2 is 1\n"
     ]
    },
    {
     "data": {
      "text/plain": [
       "0.0"
      ]
     },
     "execution_count": 10,
     "metadata": {},
     "output_type": "execute_result"
    }
   ],
   "source": [
    "def hypotenuse(leg1, leg2):\n",
    "    leg1_square = leg1 ** 2\n",
    "    leg2_square = leg2 ** 2\n",
    "    print 'the square of the length of leg 1 is', leg1_square\n",
    "    print 'the square of the length of leg 2 is', leg2_square\n",
    "    return 0.0\n",
    "hypotenuse(2,1)"
   ]
  },
  {
   "cell_type": "code",
   "execution_count": 12,
   "metadata": {
    "collapsed": false
   },
   "outputs": [
    {
     "name": "stdout",
     "output_type": "stream",
     "text": [
      "the square of the sum of the lengths is 5\n"
     ]
    },
    {
     "data": {
      "text/plain": [
       "0.0"
      ]
     },
     "execution_count": 12,
     "metadata": {},
     "output_type": "execute_result"
    }
   ],
   "source": [
    "def hypotenuse(leg1, leg2):\n",
    "    leg1_square = leg1 ** 2\n",
    "    leg2_square = leg2 ** 2\n",
    "    squaresum = leg1_square + leg2_square\n",
    "    print 'the square of the sum of the lengths is', squaresum\n",
    "    return 0.0\n",
    "hypotenuse(2,1)"
   ]
  },
  {
   "cell_type": "code",
   "execution_count": 15,
   "metadata": {
    "collapsed": false
   },
   "outputs": [
    {
     "name": "stdout",
     "output_type": "stream",
     "text": [
      " the hypotenuse is 2.2360679775\n"
     ]
    },
    {
     "data": {
      "text/plain": [
       "0.0"
      ]
     },
     "execution_count": 15,
     "metadata": {},
     "output_type": "execute_result"
    }
   ],
   "source": [
    "def hypotenuse(leg1, leg2):\n",
    "    leg1_square = leg1 ** 2.0 #make sure things are floats\n",
    "    leg2_square = leg2 ** 2.0\n",
    "    squaresum = leg1_square + leg2_square\n",
    "    hypotenuse = squaresum ** 0.5\n",
    "    print 'the hypotenuse is', hypotenuse\n",
    "    return 0.0\n",
    "hypotenuse(2,1)"
   ]
  },
  {
   "cell_type": "code",
   "execution_count": 17,
   "metadata": {
    "collapsed": false
   },
   "outputs": [
    {
     "name": "stdout",
     "output_type": "stream",
     "text": [
      "the hypotenuse is 2.2360679775\n"
     ]
    }
   ],
   "source": [
    "def hypotenuse(leg1, leg2):\n",
    "    leg1_square = leg1 ** 2.0 #make sure things are floats\n",
    "    leg2_square = leg2 ** 2.0\n",
    "    squaresum = leg1_square + leg2_square\n",
    "    hypotenuse = squaresum ** 0.5\n",
    "    #print 'the hypotenuse is', hypotenuse\n",
    "    return hypotenuse\n",
    "print 'the hypotenuse is', hypotenuse(2,1)"
   ]
  },
  {
   "cell_type": "markdown",
   "metadata": {},
   "source": [
    "# 6.3 Composition\n",
    "\n",
    "Calling one function from another is called compostion.\n",
    "\n",
    "# 6.4 Boolean functions\n",
    "\n",
    "Give them names that sound like yes/no questions"
   ]
  },
  {
   "cell_type": "markdown",
   "metadata": {},
   "source": [
    "### Exercise 3  \n",
    "Write a function `is_between(x, y, z)` that returns `True` if `x ≤ y ≤ z` or `False` otherwise."
   ]
  },
  {
   "cell_type": "code",
   "execution_count": 21,
   "metadata": {
    "collapsed": false
   },
   "outputs": [],
   "source": [
    "def is_between(x, y, z):\n",
    "    return x <= y <= z"
   ]
  },
  {
   "cell_type": "markdown",
   "metadata": {},
   "source": [
    "## [Chapter 7](http://www.greenteapress.com/thinkpython/html/thinkpython008.html)\n",
    "\n"
   ]
  },
  {
   "cell_type": "markdown",
   "metadata": {},
   "source": [
    "# 7.1 Multiple Assignment\n",
    "\n",
    "In python, you can assign a value to a variable and later assign it a new value. \n",
    "\n",
    "# 7.2 Updating Variables\n",
    "\n",
    "You can use multiple assignment to update variable values- sometimes where the new value depends on the old.\n",
    "Common updates are += and -=.  \n",
    "\n",
    "# 7.3 The while Statement\n",
    "\n",
    "Use computers to automate tasks that are repetetive. \n",
    "\n",
    "# 7.4 break\n",
    "\n",
    "Use the break statement to end a loop when inside the loop.\n",
    "\n",
    "# 7.5 Square Roots\n",
    "\n",
    "One thing loops are useful for is computing numerical results by approximating and then iterating on that approximation to get closer to the actual value.\n",
    "\n",
    "Using Newton's method to calculate square roots is one example of this.\n",
    "\n",
    "# 7.6 Algorithms\n",
    "\n",
    "Finding a general solution, not learning specific solutions\n",
    "\n",
    "# 7.7 Debugging\n",
    "\n",
    "Debug by bisection! Look at each half of the code, find which half doesn't work, split that part in half, and repeat until you find the error."
   ]
  },
  {
   "cell_type": "markdown",
   "metadata": {},
   "source": [
    "**Quick check:** How do you test for equality in Python\n",
    "\n",
    "You use the boolean operator ==. You can use Boolean functions to identify whether a statement is true or false. You definitely do not use an assignment statement with a single = sign.  "
   ]
  },
  {
   "cell_type": "markdown",
   "metadata": {},
   "source": [
    " "
   ]
  },
  {
   "cell_type": "markdown",
   "metadata": {},
   "source": [
    "**Challenge:** Prove/disprove the Collatz conjecture :)\n",
    "\n",
    "Seriously? That's some challenge. At least doing something is better than doing nothing. Right? \n",
    "\n",
    "At least we can see how ridiculously long ipython notebooks can be. ( ͡° ͜ʖ ͡°)"
   ]
  },
  {
   "cell_type": "code",
   "execution_count": 30,
   "metadata": {
    "collapsed": false
   },
   "outputs": [],
   "source": [
    "\"\"\"\n",
    "Tests the Collatz conjecture for a given natural number(s) n.\n",
    "\"\"\"\n",
    "def collatz(n):\n",
    "    sequence = \"\"\n",
    "    while  n != 1:\n",
    "        if n % 2 == 0: #n is even\n",
    "            n = n / 2\n",
    "            sequence += \",\" + str(n)\n",
    "        else: #n is odd\n",
    "            n = n * 3 + 1  \n",
    "            sequence += \",\" + str(n) \n",
    "    return sequence\n",
    "    \n",
    "def print_collatz_sequences(r):\n",
    "    for x in range(2, r):\n",
    "        print collatz(x)      \n",
    "#someone else can brute force the rest of these infinite problems.\n",
    "\n",
    "def print_disproof_cases(r): #wishful thinking\n",
    "    for x in range(2,r):\n",
    "        if collatz(x).endswith('1'):\n",
    "            print \"Nothing yet.\"\n",
    "        else:\n",
    "            print \"Holy shit, someone tell Paul Erdos that I made a coding error, but that he should give me $500 anyway.\"\n",
    "            print \"The sequence for n = \" + str(x) + \"is\" + collatz(x)\n",
    "            print \"Someone give me a medal for this.\"\n",
    "\n",
    "#print_collatz_sequences(9999)"
   ]
  },
  {
   "cell_type": "markdown",
   "metadata": {},
   "source": [
    "I hope that this clearly very valuble contribution to mathematics gets the recogniton it deserves. "
   ]
  },
  {
   "cell_type": "markdown",
   "metadata": {},
   "source": [
    "### Exercise 2  \n",
    "Encapsulate the loop from Section 7.5 in a function called `square_root` that takes `a` as a parameter, chooses a reasonable value of `x`, and returns an estimate of the square root of `a`."
   ]
  },
  {
   "cell_type": "code",
   "execution_count": 26,
   "metadata": {
    "collapsed": false
   },
   "outputs": [],
   "source": [
    "import math\n",
    "\n",
    "def square_root(a):\n",
    "    x = 1.0 #first guess\n",
    "    while True:        \n",
    "        #print x\n",
    "        y = (x + a / x) / 2\n",
    "        if abs(y - x) < 0.000000001:\n",
    "            break\n",
    "        x = y\n",
    "    return x"
   ]
  },
  {
   "cell_type": "markdown",
   "metadata": {},
   "source": [
    "### Exercise 3  \n",
    "To test the square root algorithm you developed in Exercise 2, you could compare it with Python's `math.sqrt` function. Write a function named `test_square_root` that prints a table like this:\n",
    "\n",
    "```python\n",
    "1.0 1.0           1.0           0.0\n",
    "2.0 1.41421356237 1.41421356237 2.22044604925e-16\n",
    "3.0 1.73205080757 1.73205080757 0.0\n",
    "4.0 2.0           2.0           0.0\n",
    "5.0 2.2360679775  2.2360679775  0.0\n",
    "6.0 2.44948974278 2.44948974278 0.0\n",
    "7.0 2.64575131106 2.64575131106 0.0\n",
    "8.0 2.82842712475 2.82842712475 4.4408920985e-16\n",
    "9.0 3.0           3.0           0.0\n",
    "```\n",
    "\n",
    "The first column is a number, `a`; the second column is the square root of a computed with the function from Section 7.5; the third column is the square root computed by `math.sqrt`; the fourth column is the absolute value of the difference between the two estimates."
   ]
  },
  {
   "cell_type": "code",
   "execution_count": 51,
   "metadata": {
    "collapsed": false
   },
   "outputs": [
    {
     "name": "stdout",
     "output_type": "stream",
     "text": [
      "1.0 1.000000000000 1.000000000000 0.000000000000e+00\n",
      "2.0 1.414213562373 1.414213562373 2.220446049250e-16\n",
      "3.0 1.732050807569 1.732050807569 0.000000000000e+00\n",
      "4.0 2.000000000000 2.000000000000 0.000000000000e+00\n",
      "5.0 2.236067977500 2.236067977500 0.000000000000e+00\n",
      "6.0 2.449489742783 2.449489742783 0.000000000000e+00\n",
      "7.0 2.645751311065 2.645751311065 0.000000000000e+00\n",
      "8.0 2.828427124746 2.828427124746 4.440892098501e-16\n",
      "9.0 3.000000000000 3.000000000000 0.000000000000e+00\n"
     ]
    }
   ],
   "source": [
    "import math\n",
    "\n",
    "def test_square_root():\n",
    "\n",
    "    def square_root(a):\n",
    "        x = 1.0 #first guess\n",
    "        while True:        \n",
    "            y = (x + a / x) / 2\n",
    "            if abs(y - x) < 0.0000000000000000001:\n",
    "                break\n",
    "            x = y\n",
    "        return x\n",
    "\n",
    "    for i in range (1, 10):\n",
    "        a = float(i)\n",
    "        sroot_newton_method = square_root(a)\n",
    "        sroot_math = math.sqrt(a)\n",
    "        difference = abs(sroot_newton_method - sroot_math)\n",
    "        #formatstrings https://docs.python.org/2/library/string.html\n",
    "        print '{0:.1f} {1:.12f} {2:.12f} {3:.12e}'.\\\n",
    "            format(a, sroot_newton_method,sroot_math , difference)\n",
    "            \n",
    "test_square_root()\n"
   ]
  },
  {
   "cell_type": "markdown",
   "metadata": {},
   "source": [
    "### Challenge: Exercise 5  (optional)\n",
    "The mathematician Srinivasa Ramanujan found an infinite series that can be used to generate a numerical approximation of\n",
    "$\\frac{1}{\\pi}$:\n",
    "\n",
    "$$\\frac{1}{\\pi} = \\frac{2 \\sqrt{2}}{9801} \\sum_{k=0}^{\\infty} \\frac{(4k)! (1103+26390k)}{(k!)^4 396^{4k}}$$\n",
    " \n",
    "Write a function called `estimate_pi` that uses this formula to compute and return an estimate of $\\pi$. It should use a `while` loop to compute terms of the summation until the last term is smaller than `1e-15` (which is Python notation for $10^{−15}$). You can check the result by comparing it to `math.pi`.\n",
    "\n",
    "[Possible solution](http://thinkpython.com/code/pi.py) (give the exercise a try before viewing the solution)"
   ]
  },
  {
   "cell_type": "code",
   "execution_count": 2,
   "metadata": {
    "collapsed": false
   },
   "outputs": [
    {
     "name": "stdout",
     "output_type": "stream",
     "text": [
      "3.14159273001 3.14159265359\n"
     ]
    }
   ],
   "source": [
    "#not correct\n",
    "\n",
    "import math\n",
    "\n",
    "def estimate_pi():\n",
    "    term = 0.0\n",
    "    k = 0\n",
    "    multiplier = 2 * math.sqrt(2) / 9801\n",
    "    \n",
    "    while True:\n",
    "        numerator = math.factorial(4 * k) * (1103 + 26390 * k)\n",
    "        denominator = math.factorial(k) ** 4 * 396 ** (4 * k)\n",
    "        term += numerator / denominator\n",
    "        if abs(numerator / denominator) < 1e-15:\n",
    "            break\n",
    "        k += 1\n",
    "    return 1 / (multiplier * term)\n",
    "print estimate_pi(), math.pi"
   ]
  },
  {
   "cell_type": "markdown",
   "metadata": {},
   "source": [
    "Whoops. That wasn't the precision we wanted. Let's look at the solution."
   ]
  },
  {
   "cell_type": "code",
   "execution_count": 2,
   "metadata": {
    "collapsed": false
   },
   "outputs": [
    {
     "name": "stdout",
     "output_type": "stream",
     "text": [
      "3.14159265359\n"
     ]
    }
   ],
   "source": [
    "\"\"\"This module contains code from\n",
    "Think Python by Allen B. Downey\n",
    "http://thinkpython.com\n",
    "\n",
    "Copyright 2012 Allen B. Downey\n",
    "License: GNU GPLv3 http://www.gnu.org/licenses/gpl.html\n",
    "\n",
    "\"\"\"\n",
    "\n",
    "import math\n",
    "\n",
    "\n",
    "def factorial(n):\n",
    "    \"\"\"Computes factorial of n.\"\"\"\n",
    "    if n == 0:\n",
    "        return 1\n",
    "    else:\n",
    "        recurse = factorial(n-1)\n",
    "        result = n * recurse\n",
    "        return result\n",
    "\n",
    "\n",
    "def estimate_pi():\n",
    "    \"\"\"Computes an estimate of pi.\n",
    "\n",
    "    Algorithm due to Srinivasa Ramanujan, from \n",
    "    http://en.wikipedia.org/wiki/Pi\n",
    "    \"\"\"\n",
    "    total = 0\n",
    "    k = 0\n",
    "    factor = 2 * math.sqrt(2) / 9801\n",
    "    while True:\n",
    "        num = factorial(4*k) * (1103 + 26390*k)\n",
    "        den = factorial(k)**4 * 396**(4*k)\n",
    "        term = factor * num / den\n",
    "        total += term\n",
    "        \n",
    "        if abs(term) < 1e-15: break\n",
    "        k += 1\n",
    "\n",
    "    return 1 / total\n",
    "\n",
    "print estimate_pi()"
   ]
  },
  {
   "cell_type": "markdown",
   "metadata": {},
   "source": [
    "This doesn't look very different, except for the factorial function. Let's try dumping that into my code. "
   ]
  },
  {
   "cell_type": "code",
   "execution_count": 13,
   "metadata": {
    "collapsed": false
   },
   "outputs": [
    {
     "name": "stdout",
     "output_type": "stream",
     "text": [
      "3.14159265359 3.14159265359\n"
     ]
    }
   ],
   "source": [
    "import math\n",
    "\n",
    "\n",
    "def factorial(n):\n",
    "    \"\"\"Computes factorial of n. Due to Allen Downey.\"\"\"\n",
    "    if n == 0:\n",
    "        return 1\n",
    "    else:\n",
    "        recurse = factorial(n-1)\n",
    "        result = n * recurse\n",
    "        return result\n",
    "    \n",
    "def estimate_pi():\n",
    "    term = 0.0\n",
    "    k = 0\n",
    "    multiplier = 2 * math.sqrt(2) / 9801\n",
    "    \n",
    "    while True:\n",
    "        numerator = factorial(4.0 * k) * (1103 + 26390 * k)\n",
    "        denominator = factorial(k) ** 4 * 396 ** (4 * k)\n",
    "        term += numerator / denominator\n",
    "        if abs(numerator / denominator) < 1e-15:\n",
    "            break\n",
    "        k += 1\n",
    "    return 1 / (multiplier * term)\n",
    "print estimate_pi(), math.pi"
   ]
  },
  {
   "cell_type": "markdown",
   "metadata": {},
   "source": [
    "Why is this the case? Posted in Piazza. -> memory issue from running the solution code. "
   ]
  },
  {
   "cell_type": "code",
   "execution_count": 1,
   "metadata": {
    "collapsed": false
   },
   "outputs": [
    {
     "name": "stdout",
     "output_type": "stream",
     "text": [
      "3.14159265359 3.14159265359\n"
     ]
    }
   ],
   "source": [
    "#corrected\n",
    "import math\n",
    "\n",
    "def estimate_pi():\n",
    "    term = 0.0\n",
    "    k = 0\n",
    "    multiplier = 2 * math.sqrt(2) / 9801\n",
    "    \n",
    "    while True:\n",
    "        numerator = float(math.factorial(4 * k) * (1103 + 26390 * k))\n",
    "        denominator = float(math.factorial(k) ** 4 * 396 ** (4 * k))\n",
    "        term += numerator / denominator\n",
    "        if abs(numerator / denominator) < 1e-15:\n",
    "            break\n",
    "        k += 1\n",
    "    return 1 / (multiplier * term)\n",
    "print estimate_pi(), math.pi"
   ]
  },
  {
   "cell_type": "markdown",
   "metadata": {},
   "source": [
    "The issue was with the numerator and denominator being ints.  Fixed."
   ]
  },
  {
   "cell_type": "markdown",
   "metadata": {},
   "source": [
    "## Reading Journal feedback\n",
    "\n",
    "Have any comments on this Reading Journal? Feel free to leave them below and we'll read them when you submit your journal entry. This could include suggestions to improve the exercises, topics you'd like to see covered in class next time, or other feedback.\n",
    "\n",
    "If you have Python questions or run into problems while completing the reading, you should post them to Piazza instead so you can get a quick response before your journal is submitted."
   ]
  },
  {
   "cell_type": "markdown",
   "metadata": {},
   "source": [
    " "
   ]
  }
 ],
 "metadata": {
  "kernelspec": {
   "display_name": "Python 2",
   "language": "python",
   "name": "python2"
  },
  "language_info": {
   "codemirror_mode": {
    "name": "ipython",
    "version": 2
   },
   "file_extension": ".py",
   "mimetype": "text/x-python",
   "name": "python",
   "nbconvert_exporter": "python",
   "pygments_lexer": "ipython2",
   "version": "2.7.6"
  }
 },
 "nbformat": 4,
 "nbformat_minor": 0
}
