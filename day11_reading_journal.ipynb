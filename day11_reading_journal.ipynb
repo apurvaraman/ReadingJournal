{
 "cells": [
  {
   "cell_type": "markdown",
   "metadata": {},
   "source": [
    "# Day 11 Reading Journal\n",
    "\n",
    "This journal includes several required exercises, but it is meant to encourage active reading more generally.  You should use the journal to take detailed notes, catalog questions, and explore the content from Think Python deeply.\n",
    "\n",
    "Reading: Review Think Python Chapters 15-17\n",
    "\n",
    "**Due: Monday, February 29 at 12 noon**\n",
    "\n"
   ]
  },
  {
   "cell_type": "markdown",
   "metadata": {},
   "source": [
    "## [Chapter 15](http://www.greenteapress.com/thinkpython/html/thinkpython016.html), [Chapter 16](http://www.greenteapress.com/thinkpython/html/thinkpython017.html), [Chapter 17](http://www.greenteapress.com/thinkpython/html/thinkpython018.html)\n",
    "\n",
    "\n",
    "By the end of chapter 17, we have all the tools we need to create our own user-defined types known as classes. In this reading journal, we're asking you to review and solidify your understanding of this material so we can build on it for the rest of the course. \n",
    "\n",
    "If you didn't get a chance to fully complete the Day 10 reading journal, you may want to do so now."
   ]
  },
  {
   "cell_type": "markdown",
   "metadata": {
    "problem": "Terminology"
   },
   "source": [
    "### Terminology\n",
    "\n",
    "You should be familiar with the following list of terms and concepts. If any of them are unclear to you, re-read, ask, write a definition in your own words, and try an example if appropriate.\n",
    "\n",
    " - class : a user defined type\n",
    " - object : pretty much everything in python: things that can have attributes and methods\n",
    " - instance : a new object belonging to a class(as in instance of a class)\n",
    " - attribute: elements where values are assigned to instances using dot notation\n",
    " - method : a function that is a member of a class\n",
    " - shallow vs deep copying: shallow copying copies an object and referencesm but not the embedded object, whereas deep copying copies the embedded objects as well\n",
    " - pure functions vs modifiers : a funciton that doesn't change any of the arguments it recieves\n",
    " - initializing object instances : using the init method to define what attributes a class has\n",
    " \n",
    " "
   ]
  },
  {
   "cell_type": "markdown",
   "metadata": {
    "is_question": true,
    "problem": "Exercise 1"
   },
   "source": [
    "### Exercise\n",
    "\n",
    "We're going to take the first steps toward writing a calendar application. To keep things simple, we'll restrict ourselves to a single day for now. Write an `Event` class with the following attributes:\n",
    "\n",
    " - `name`  : Title for the `Event`\n",
    " - `start` : `Time` object representing the start time for the `Event`\n",
    " - `end`   : `Time` object representing the end time for the `Event`\n",
    "\n",
    "You can also augment your `Event` class with additional attributes, such as location and attendees.\n",
    "\n",
    "Write `__init__` and `__str__` methods for your `Event` class."
   ]
  },
  {
   "cell_type": "code",
   "execution_count": 2,
   "metadata": {
    "collapsed": true
   },
   "outputs": [],
   "source": [
    "class Time(object):\n",
    "    \"\"\"\n",
    "    Represents the time of day.\n",
    "    \n",
    "    attributes: hour, minute, second\n",
    "    \"\"\"\n",
    "    \n",
    "    def __init__(self, hour=0, minute=0, second=0):\n",
    "        self.hour = hour\n",
    "        self.minute = minute\n",
    "        self.second = second\n",
    "\n",
    "    def __str__(self):\n",
    "        return '%.2d:%.2d:%.2d' % (self.hour, self.minute, self.second)\n",
    "\n",
    "def time_to_int(time):\n",
    "    \"\"\"\n",
    "    Converts a time to an int representing number of seconds\n",
    "    \"\"\"\n",
    "    minutes = time.hour * 60 + time.minute\n",
    "    seconds = minutes * 60 + time.second\n",
    "    return seconds\n",
    "\n",
    "def int_to_time(seconds):\n",
    "    \"\"\"\n",
    "    Converts an int representing number of seconds to a time\n",
    "    \"\"\"\n",
    "    time = Time()\n",
    "    minutes, time.second = divmod(seconds, 60)\n",
    "    time.hour, time.minute = divmod(minutes, 60)\n",
    "    return time"
   ]
  },
  {
   "cell_type": "code",
   "execution_count": 18,
   "metadata": {
    "collapsed": false,
    "solution": "Exercise 1"
   },
   "outputs": [
    {
     "name": "stdout",
     "output_type": "stream",
     "text": [
      "snack time from 00:00:01 to 23:59:59\n"
     ]
    }
   ],
   "source": [
    "class Event(object):\n",
    "    \"\"\"\n",
    "    Represents an event that occurs in a day.\n",
    "    \n",
    "    attributes: start, end, name\n",
    "    \"\"\"\n",
    "    \n",
    "    def __init__(self, start = Time(0,0,0), end = Time(0,0,0), name = \"\"):\n",
    "        self.start = start\n",
    "        self.end = end\n",
    "        self.name = name\n",
    "        \n",
    "    def __str__(self):\n",
    "        return '%s from %s to %s' % (self.name, self.start, self.end)\n",
    "    \n",
    "myEvent = Event(Time(0,0,1),Time(23, 59, 59), 'snack time')\n",
    "print myEvent"
   ]
  },
  {
   "cell_type": "markdown",
   "metadata": {
    "is_question": true,
    "problem": "Exercise 2"
   },
   "source": [
    "### Exercise\n",
    "\n",
    "Write a `duration` method that returns the duration of the `Event` in minutes."
   ]
  },
  {
   "cell_type": "code",
   "execution_count": 19,
   "metadata": {
    "collapsed": false,
    "solution": "Exercise 2"
   },
   "outputs": [
    {
     "name": "stdout",
     "output_type": "stream",
     "text": [
      "snack time from 00:00:01 to 23:59:59\n",
      "1439\n"
     ]
    }
   ],
   "source": [
    "class Event(object):\n",
    "    \"\"\"\n",
    "    Represents an event that occurs in a day.\n",
    "    \n",
    "    attributes: start, end, name\n",
    "    \"\"\"\n",
    "    \n",
    "    def __init__(self, start = Time(0,0,0), end = Time(0,0,0), name = \"\"):\n",
    "        self.start = start\n",
    "        self.end = end\n",
    "        self.name = name\n",
    "        \n",
    "    def __str__(self):\n",
    "        return '%s from %s to %s' % (self.name, self.start, self.end)\n",
    "    \n",
    "    def duration(self):\n",
    "        \"\"\"\n",
    "        Returns the duration of the event in minutes (rounding down)\n",
    "        \"\"\"\n",
    "        start_seconds = time_to_int(self.start)\n",
    "        end_seconds = time_to_int(self.end)\n",
    "        \n",
    "        return (end_seconds-start_seconds)/60\n",
    "    \n",
    "myEvent = Event(Time(0,0,1),Time(23, 59, 59), 'snack time')\n",
    "print myEvent\n",
    "print myEvent.duration()"
   ]
  },
  {
   "cell_type": "markdown",
   "metadata": {
    "is_question": true,
    "problem": "Exercise 3"
   },
   "source": [
    "### Exercise\n",
    "\n",
    "Write an `Agenda` class that contains several `Event`s for the day.\n",
    "\n",
    "**Quick check: ** How should you store `Event`s within your `Agenda` class?\n",
    "\n",
    "Your `Agenda` class should include a `print_agenda` method that prints out your schedule for the day, in order.\n",
    "\n",
    "**Optional:** Include a `is_feasible` method that returns `True` if your schedule has no time conflicts. You may want to write additional helper methods for the `Event` class to make this easier."
   ]
  },
  {
   "cell_type": "code",
   "execution_count": 20,
   "metadata": {
    "collapsed": false,
    "solution": "Exercise 3"
   },
   "outputs": [
    {
     "name": "stdout",
     "output_type": "stream",
     "text": [
      "snack time from 00:00:01 to 23:59:59\n",
      "unicorn riding from 02:02:02 to 03:03:03\n",
      "sleep from 23:59:59 to 24:00:00\n",
      "False\n",
      "snack time from 00:00:01 to 23:59:59\n",
      "sleep from 23:59:59 to 24:00:00\n",
      "True\n"
     ]
    }
   ],
   "source": [
    "class Agenda(object):\n",
    "    \"\"\"\n",
    "    Stores a list of events sorted by start time\n",
    "    attributes: events (list containing Event objects)\n",
    "    \"\"\"\n",
    "    def __init__(self, *args):\n",
    "        self.events = []\n",
    "        for event in args:\n",
    "            self.events.append(event)\n",
    "        self.events.sort()\n",
    "        \n",
    "    def print_agenda(self):\n",
    "        for event in self.events:\n",
    "            print event\n",
    "        \n",
    "    def add_event(self, event):\n",
    "        self.events.append(event)\n",
    "        self.events.sort()\n",
    "        \n",
    "    def is_feasible(self):\n",
    "\n",
    "        endpoint = len(self.events) - 1\n",
    "        for i in range(0, endpoint):\n",
    "            if self.events[i].end > self.events[i+1].start:\n",
    "                return False\n",
    "        return True\n",
    "\n",
    "        \n",
    "    \n",
    "class Event(object):\n",
    "    \"\"\"\n",
    "    Represents an event that occurs in a day.\n",
    "    \n",
    "    attributes: start, end, name\n",
    "    \"\"\"\n",
    "    \n",
    "    def __init__(self, start = Time(0,0,0), end = Time(0,0,0), name = \"\"):\n",
    "        self.start = start\n",
    "        self.end = end\n",
    "        self.name = name\n",
    "        \n",
    "    def __str__(self):\n",
    "        return '%s from %s to %s' % (self.name, self.start, self.end)\n",
    "    \n",
    "    def duration(self):\n",
    "        \"\"\"\n",
    "        Returns the duration of the event in minutes (rounding down)\n",
    "        \"\"\"\n",
    "        start_seconds = time_to_int(self.start)\n",
    "        end_seconds = time_to_int(self.end)\n",
    "        \n",
    "        return (end_seconds-start_seconds)/60\n",
    "    \n",
    "  \n",
    "       \n",
    "    \n",
    "snacks = Event(Time(0,0,1),Time(23, 59, 59), 'snack time')\n",
    "unicornRiding = Event(Time(2,2,2),Time(3,3,3), 'unicorn riding')\n",
    "sleep = Event(Time(23,59,59),Time(24, 0, 0), 'sleep')\n",
    "\n",
    "myAgenda = Agenda(snacks, unicornRiding, sleep)\n",
    "myAgenda.print_agenda()\n",
    "print myAgenda.is_feasible()\n",
    "\n",
    "myActualAgenda = Agenda(snacks, sleep)\n",
    "myActualAgenda.print_agenda()\n",
    "print myActualAgenda.is_feasible()\n"
   ]
  },
  {
   "cell_type": "markdown",
   "metadata": {
    "is_question": true,
    "problem": "Exercise 4"
   },
   "source": [
    "### Going Beyond (optional)\n",
    "\n",
    "Some ideas for taking your application further:\n",
    " - Add people and/or places to the mix to create a scheduling assistant\n",
    " - Extend support for day-of-week or full date. A word of warning: dealing with dates and times in real applications is difficult due to the huge number of special cases (Perfect example: this reading journal is due on Leap Day). Consider using something like the Python [datetime](https://docs.python.org/2/library/datetime.html) module.\n",
    " - Use pickle or some other persistence strategy to save and load your `Agenda`."
   ]
  },
  {
   "cell_type": "code",
   "execution_count": null,
   "metadata": {
    "collapsed": true,
    "solution": "Exercise 4"
   },
   "outputs": [],
   "source": []
  },
  {
   "cell_type": "markdown",
   "metadata": {
    "is_poll": true,
    "is_question": true,
    "problem": "Time spent"
   },
   "source": [
    "## Quick poll\n",
    "About how long did you spend working on this Reading Journal?"
   ]
  },
  {
   "cell_type": "markdown",
   "metadata": {
    "poll_response": true,
    "solution": "Time spent"
   },
   "source": [
    "A little under half an hour (no new readings) "
   ]
  },
  {
   "cell_type": "markdown",
   "metadata": {
    "is_question": true,
    "problem": "Feedback"
   },
   "source": [
    "## Reading Journal feedback\n",
    "\n",
    "Have any comments on this Reading Journal? Feel free to leave them below and we'll read them when you submit your journal entry. This could include suggestions to improve the exercises, topics you'd like to see covered in class next time, or other feedback.\n",
    "\n",
    "If you have Python questions or run into problems while completing the reading, you should post them to Piazza instead so you can get a quick response before your journal is submitted."
   ]
  },
  {
   "cell_type": "markdown",
   "metadata": {
    "feedback_response": true,
    "solution": "Feedback"
   },
   "source": [
    " "
   ]
  }
 ],
 "metadata": {
  "celltoolbar": "Edit Metadata",
  "kernelspec": {
   "display_name": "Python 2",
   "language": "python",
   "name": "python2"
  },
  "language_info": {
   "codemirror_mode": {
    "name": "ipython",
    "version": 2
   },
   "file_extension": ".py",
   "mimetype": "text/x-python",
   "name": "python",
   "nbconvert_exporter": "python",
   "pygments_lexer": "ipython2",
   "version": "2.7.6"
  }
 },
 "nbformat": 4,
 "nbformat_minor": 0
}
